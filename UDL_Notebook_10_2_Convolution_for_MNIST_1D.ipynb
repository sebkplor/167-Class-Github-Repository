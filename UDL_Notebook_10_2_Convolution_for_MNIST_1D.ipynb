{
  "nbformat": 4,
  "nbformat_minor": 0,
  "metadata": {
    "colab": {
      "provenance": [],
      "include_colab_link": true
    },
    "kernelspec": {
      "name": "python3",
      "display_name": "Python 3"
    },
    "language_info": {
      "name": "python"
    }
  },
  "cells": [
    {
      "cell_type": "markdown",
      "metadata": {
        "id": "view-in-github",
        "colab_type": "text"
      },
      "source": [
        "<a href=\"https://colab.research.google.com/github/sebkplor/167-Class-Github-Repository/blob/main/UDL_Notebook_10_2_Convolution_for_MNIST_1D.ipynb\" target=\"_parent\"><img src=\"https://colab.research.google.com/assets/colab-badge.svg\" alt=\"Open In Colab\"/></a>"
      ]
    },
    {
      "cell_type": "markdown",
      "source": [
        "# **Notebook 10.2: Convolution for MNIST-1D**\n",
        "\n",
        "This notebook investigates a 1D convolutional network for MNIST-1D as in figure 10.7 and 10.8a.\n",
        "\n",
        "Work through the cells below, running each cell in turn. In various places you will see the words \"TODO\". Follow the instructions at these places and make predictions about what is going to happen or write code to complete the functions.\n",
        "\n",
        "Contact me at udlbookmail@gmail.com if you find any mistakes or have any suggestions.\n",
        "\n"
      ],
      "metadata": {
        "id": "t9vk9Elugvmi"
      }
    },
    {
      "cell_type": "code",
      "source": [
        "# Run this if you're in a Colab to install MNIST 1D repository\n",
        "!pip install git+https://github.com/greydanus/mnist1d"
      ],
      "metadata": {
        "id": "D5yLObtZCi9J",
        "colab": {
          "base_uri": "https://localhost:8080/"
        },
        "outputId": "4ec300e0-0200-477f-8ba8-124d53b0dca3"
      },
      "execution_count": 1,
      "outputs": [
        {
          "output_type": "stream",
          "name": "stdout",
          "text": [
            "Collecting git+https://github.com/greydanus/mnist1d\n",
            "  Cloning https://github.com/greydanus/mnist1d to /tmp/pip-req-build-i625n0lx\n",
            "  Running command git clone --filter=blob:none --quiet https://github.com/greydanus/mnist1d /tmp/pip-req-build-i625n0lx\n",
            "  Resolved https://github.com/greydanus/mnist1d to commit 7878d96082abd200c546a07a4101fa90b30fdf7e\n",
            "  Installing build dependencies ... \u001b[?25l\u001b[?25hdone\n",
            "  Getting requirements to build wheel ... \u001b[?25l\u001b[?25hdone\n",
            "  Preparing metadata (pyproject.toml) ... \u001b[?25l\u001b[?25hdone\n",
            "Requirement already satisfied: requests in /usr/local/lib/python3.12/dist-packages (from mnist1d==0.0.2.post16) (2.32.4)\n",
            "Requirement already satisfied: numpy in /usr/local/lib/python3.12/dist-packages (from mnist1d==0.0.2.post16) (2.0.2)\n",
            "Requirement already satisfied: matplotlib in /usr/local/lib/python3.12/dist-packages (from mnist1d==0.0.2.post16) (3.10.0)\n",
            "Requirement already satisfied: scipy in /usr/local/lib/python3.12/dist-packages (from mnist1d==0.0.2.post16) (1.16.3)\n",
            "Requirement already satisfied: contourpy>=1.0.1 in /usr/local/lib/python3.12/dist-packages (from matplotlib->mnist1d==0.0.2.post16) (1.3.3)\n",
            "Requirement already satisfied: cycler>=0.10 in /usr/local/lib/python3.12/dist-packages (from matplotlib->mnist1d==0.0.2.post16) (0.12.1)\n",
            "Requirement already satisfied: fonttools>=4.22.0 in /usr/local/lib/python3.12/dist-packages (from matplotlib->mnist1d==0.0.2.post16) (4.60.1)\n",
            "Requirement already satisfied: kiwisolver>=1.3.1 in /usr/local/lib/python3.12/dist-packages (from matplotlib->mnist1d==0.0.2.post16) (1.4.9)\n",
            "Requirement already satisfied: packaging>=20.0 in /usr/local/lib/python3.12/dist-packages (from matplotlib->mnist1d==0.0.2.post16) (25.0)\n",
            "Requirement already satisfied: pillow>=8 in /usr/local/lib/python3.12/dist-packages (from matplotlib->mnist1d==0.0.2.post16) (11.3.0)\n",
            "Requirement already satisfied: pyparsing>=2.3.1 in /usr/local/lib/python3.12/dist-packages (from matplotlib->mnist1d==0.0.2.post16) (3.2.5)\n",
            "Requirement already satisfied: python-dateutil>=2.7 in /usr/local/lib/python3.12/dist-packages (from matplotlib->mnist1d==0.0.2.post16) (2.9.0.post0)\n",
            "Requirement already satisfied: charset_normalizer<4,>=2 in /usr/local/lib/python3.12/dist-packages (from requests->mnist1d==0.0.2.post16) (3.4.4)\n",
            "Requirement already satisfied: idna<4,>=2.5 in /usr/local/lib/python3.12/dist-packages (from requests->mnist1d==0.0.2.post16) (3.11)\n",
            "Requirement already satisfied: urllib3<3,>=1.21.1 in /usr/local/lib/python3.12/dist-packages (from requests->mnist1d==0.0.2.post16) (2.5.0)\n",
            "Requirement already satisfied: certifi>=2017.4.17 in /usr/local/lib/python3.12/dist-packages (from requests->mnist1d==0.0.2.post16) (2025.10.5)\n",
            "Requirement already satisfied: six>=1.5 in /usr/local/lib/python3.12/dist-packages (from python-dateutil>=2.7->matplotlib->mnist1d==0.0.2.post16) (1.17.0)\n",
            "Building wheels for collected packages: mnist1d\n",
            "  Building wheel for mnist1d (pyproject.toml) ... \u001b[?25l\u001b[?25hdone\n",
            "  Created wheel for mnist1d: filename=mnist1d-0.0.2.post16-py3-none-any.whl size=14665 sha256=9e9eb67e84229d23b6ebbcf504ae47864f73ae2ccbb553a3f359a70270d8a970\n",
            "  Stored in directory: /tmp/pip-ephem-wheel-cache-ivwgi5s4/wheels/18/40/b6/29381fee9b4c80fdbc304d52bb065a7286bbcca5ca2b8737c0\n",
            "Successfully built mnist1d\n",
            "Installing collected packages: mnist1d\n",
            "Successfully installed mnist1d-0.0.2.post16\n"
          ]
        }
      ]
    },
    {
      "cell_type": "code",
      "source": [
        "import numpy as np\n",
        "import os\n",
        "import torch, torch.nn as nn\n",
        "from torch.utils.data import TensorDataset, DataLoader\n",
        "from torch.optim.lr_scheduler import StepLR\n",
        "import matplotlib.pyplot as plt\n",
        "import mnist1d\n",
        "import random"
      ],
      "metadata": {
        "id": "YrXWAH7sUWvU"
      },
      "execution_count": 2,
      "outputs": []
    },
    {
      "cell_type": "code",
      "source": [
        "args = mnist1d.data.get_dataset_args()\n",
        "data = mnist1d.data.get_dataset(args, path='./mnist1d_data.pkl', download=False, regenerate=False)\n",
        "\n",
        "# The training and test input and outputs are in\n",
        "# data['x'], data['y'], data['x_test'], and data['y_test']\n",
        "print(\"Examples in training set: {}\".format(len(data['y'])))\n",
        "print(\"Examples in test set: {}\".format(len(data['y_test'])))\n",
        "print(\"Length of each example: {}\".format(data['x'].shape[-1]))"
      ],
      "metadata": {
        "id": "twI72ZCrCt5z",
        "colab": {
          "base_uri": "https://localhost:8080/"
        },
        "outputId": "f5140992-9d6e-4708-df45-b8a902615cac"
      },
      "execution_count": 3,
      "outputs": [
        {
          "output_type": "stream",
          "name": "stdout",
          "text": [
            "Did or could not load data from ./mnist1d_data.pkl. Rebuilding dataset...\n",
            "Examples in training set: 4000\n",
            "Examples in test set: 1000\n",
            "Length of each example: 40\n"
          ]
        }
      ]
    },
    {
      "cell_type": "code",
      "source": [
        "# Load in the data\n",
        "train_data_x = data['x'].transpose()\n",
        "train_data_y = data['y']\n",
        "val_data_x = data['x_test'].transpose()\n",
        "val_data_y = data['y_test']\n",
        "# Print out sizes\n",
        "print(\"Train data: %d examples (columns), each of which has %d dimensions (rows)\"%((train_data_x.shape[1],train_data_x.shape[0])))\n",
        "print(\"Validation data: %d examples (columns), each of which has %d dimensions (rows)\"%((val_data_x.shape[1],val_data_x.shape[0])))"
      ],
      "metadata": {
        "id": "8bKADvLHbiV5",
        "colab": {
          "base_uri": "https://localhost:8080/"
        },
        "outputId": "7292a658-0428-4ffb-fe0b-25285718f6b6"
      },
      "execution_count": 4,
      "outputs": [
        {
          "output_type": "stream",
          "name": "stdout",
          "text": [
            "Train data: 4000 examples (columns), each of which has 40 dimensions (rows)\n",
            "Validation data: 1000 examples (columns), each of which has 40 dimensions (rows)\n"
          ]
        }
      ]
    },
    {
      "cell_type": "markdown",
      "source": [
        "Define the network"
      ],
      "metadata": {
        "id": "_sFvRDGrl4qe"
      }
    },
    {
      "cell_type": "code",
      "source": [
        "# There are 40 input dimensions and 10 output dimensions for this data\n",
        "# The inputs correspond to the 40 offsets in the MNIST1D template.\n",
        "D_i = 40\n",
        "# The outputs correspond to the 10 digits\n",
        "D_o = 10\n",
        "\n",
        "\n",
        "# TODO Create a model with the following layers\n",
        "# 1. Convolutional layer, (input=length 40 and 1 channel, kernel size 3, stride 2, padding=\"valid\", 15 output channels )\n",
        "# 2. ReLU\n",
        "# 3. Convolutional layer, (input=length 19 and 15 channels, kernel size 3, stride 2, padding=\"valid\", 15 output channels )\n",
        "# 4. ReLU\n",
        "# 5. Convolutional layer, (input=length 9 and 15 channels, kernel size 3, stride 2, padding=\"valid\", 15 output channels)\n",
        "# 6. ReLU\n",
        "# 7. Flatten (converts 4x15) to length 60\n",
        "# 8. Linear layer (input size = 60, output size = 10)\n",
        "# References:\n",
        "# https://pytorch.org/docs/1.13/generated/torch.nn.Conv1d.html?highlight=conv1d#torch.nn.Conv1d\n",
        "# https://pytorch.org/docs/stable/generated/torch.nn.Flatten.html\n",
        "# https://pytorch.org/docs/1.13/generated/torch.nn.Linear.html?highlight=linear#torch.nn.Linear\n",
        "\n",
        "# NOTE THAT THE CONVOLUTIONAL LAYERS NEED TO TAKE THE NUMBER OF INPUT CHANNELS AS A PARAMETER\n",
        "# AND NOT THE INPUT SIZE.\n",
        "\n",
        "# Replace the following function:\n",
        "model = nn.Sequential(\n",
        "    nn.Conv1d(in_channels=1, out_channels=15, kernel_size=3, stride=2, padding=\"valid\"),\n",
        "    nn.ReLU(),\n",
        "    nn.Conv1d(in_channels=15, out_channels=15, kernel_size=3, stride=2, padding=\"valid\"),\n",
        "    nn.ReLU(),\n",
        "    nn.Conv1d(in_channels=15, out_channels=15, kernel_size=3, stride=2, padding=\"valid\"),\n",
        "    nn.ReLU(),\n",
        "    nn.Flatten(),\n",
        "    nn.Linear(60, 10)\n",
        ")"
      ],
      "metadata": {
        "id": "FslroPJJffrh"
      },
      "execution_count": 5,
      "outputs": []
    },
    {
      "cell_type": "code",
      "source": [
        "# He initialization of weights\n",
        "def weights_init(layer_in):\n",
        "  if isinstance(layer_in, nn.Linear):\n",
        "    nn.init.kaiming_uniform_(layer_in.weight)\n",
        "    layer_in.bias.data.fill_(0.0)"
      ],
      "metadata": {
        "id": "YgLaex1pfhqz"
      },
      "execution_count": 6,
      "outputs": []
    },
    {
      "cell_type": "code",
      "source": [
        "# choose cross entropy loss function (equation 5.24 in the loss notes)\n",
        "loss_function = nn.CrossEntropyLoss()\n",
        "# construct SGD optimizer and initialize learning rate and momentum\n",
        "optimizer = torch.optim.SGD(model.parameters(), lr = 0.05, momentum=0.9)\n",
        "# object that decreases learning rate by half every 20 epochs\n",
        "scheduler = StepLR(optimizer, step_size=20, gamma=0.5)\n",
        "# create 100 dummy data points and store in data loader class\n",
        "x_train = torch.tensor(train_data_x.transpose().astype('float32'))\n",
        "y_train = torch.tensor(train_data_y.astype('long')).long()\n",
        "x_val= torch.tensor(val_data_x.transpose().astype('float32'))\n",
        "y_val = torch.tensor(val_data_y.astype('long')).long()\n",
        "\n",
        "# load the data into a class that creates the batches\n",
        "data_loader = DataLoader(TensorDataset(x_train,y_train), batch_size=100, shuffle=True, worker_init_fn=np.random.seed(1))\n",
        "\n",
        "# Initialize model weights\n",
        "model.apply(weights_init)\n",
        "\n",
        "# loop over the dataset n_epoch times\n",
        "n_epoch = 100\n",
        "# store the loss and the % correct at each epoch\n",
        "losses_train = np.zeros((n_epoch))\n",
        "errors_train = np.zeros((n_epoch))\n",
        "losses_val = np.zeros((n_epoch))\n",
        "errors_val = np.zeros((n_epoch))\n",
        "\n",
        "for epoch in range(n_epoch):\n",
        "  # loop over batches\n",
        "  for i, data in enumerate(data_loader):\n",
        "    # retrieve inputs and labels for this batch\n",
        "    x_batch, y_batch = data\n",
        "    # zero the parameter gradients\n",
        "    optimizer.zero_grad()\n",
        "    # forward pass -- calculate model output\n",
        "    pred = model(x_batch[:,None,:])\n",
        "    # compute the loss\n",
        "    loss = loss_function(pred, y_batch)\n",
        "    # backward pass\n",
        "    loss.backward()\n",
        "    # SGD update\n",
        "    optimizer.step()\n",
        "\n",
        "  # Run whole dataset to get statistics -- normally wouldn't do this\n",
        "  pred_train = model(x_train[:,None,:])\n",
        "  pred_val = model(x_val[:,None,:])\n",
        "  _, predicted_train_class = torch.max(pred_train.data, 1)\n",
        "  _, predicted_val_class = torch.max(pred_val.data, 1)\n",
        "  errors_train[epoch] = 100 - 100 * (predicted_train_class == y_train).float().sum() / len(y_train)\n",
        "  errors_val[epoch]= 100 - 100 * (predicted_val_class == y_val).float().sum() / len(y_val)\n",
        "  losses_train[epoch] = loss_function(pred_train, y_train).item()\n",
        "  losses_val[epoch]= loss_function(pred_val, y_val).item()\n",
        "  print(f'Epoch {epoch:5d}, train loss {losses_train[epoch]:.6f}, train error {errors_train[epoch]:3.2f},  val loss {losses_val[epoch]:.6f}, percent error {errors_val[epoch]:3.2f}')\n",
        "\n",
        "  # tell scheduler to consider updating learning rate\n",
        "  scheduler.step()\n",
        "\n",
        "# Plot the results\n",
        "fig, ax = plt.subplots()\n",
        "ax.plot(errors_train,'r-',label='train')\n",
        "ax.plot(errors_val,'b-',label='validation')\n",
        "ax.set_ylim(0,100); ax.set_xlim(0,n_epoch)\n",
        "ax.set_xlabel('Epoch'); ax.set_ylabel('Error')\n",
        "ax.set_title('Part I: Validation Result %3.2f'%(errors_val[-1]))\n",
        "ax.legend()\n",
        "plt.show()"
      ],
      "metadata": {
        "id": "NYw8I_3mmX5c",
        "colab": {
          "base_uri": "https://localhost:8080/",
          "height": 1000
        },
        "outputId": "e0247ed5-aa13-4862-c4b5-0736a68ca4ec"
      },
      "execution_count": 7,
      "outputs": [
        {
          "output_type": "stream",
          "name": "stdout",
          "text": [
            "Epoch     0, train loss 1.885781, train error 76.12,  val loss 1.904640, percent error 78.80\n",
            "Epoch     1, train loss 1.499611, train error 58.62,  val loss 1.539243, percent error 62.80\n",
            "Epoch     2, train loss 1.343174, train error 53.85,  val loss 1.368666, percent error 56.40\n",
            "Epoch     3, train loss 1.261438, train error 50.12,  val loss 1.290559, percent error 52.40\n",
            "Epoch     4, train loss 1.195815, train error 48.35,  val loss 1.220888, percent error 49.40\n",
            "Epoch     5, train loss 1.129151, train error 46.00,  val loss 1.144926, percent error 46.80\n",
            "Epoch     6, train loss 1.061579, train error 43.60,  val loss 1.112949, percent error 45.30\n",
            "Epoch     7, train loss 0.921893, train error 36.60,  val loss 0.970764, percent error 39.00\n",
            "Epoch     8, train loss 0.866939, train error 34.75,  val loss 0.902804, percent error 37.60\n",
            "Epoch     9, train loss 0.758543, train error 30.60,  val loss 0.824391, percent error 33.10\n",
            "Epoch    10, train loss 0.717249, train error 28.62,  val loss 0.805284, percent error 32.90\n",
            "Epoch    11, train loss 0.724253, train error 28.90,  val loss 0.825747, percent error 33.10\n",
            "Epoch    12, train loss 0.614620, train error 23.70,  val loss 0.705286, percent error 28.10\n",
            "Epoch    13, train loss 0.605997, train error 23.88,  val loss 0.718818, percent error 27.60\n",
            "Epoch    14, train loss 0.583114, train error 22.68,  val loss 0.687255, percent error 25.70\n",
            "Epoch    15, train loss 0.652494, train error 25.78,  val loss 0.828952, percent error 31.70\n",
            "Epoch    16, train loss 0.484416, train error 17.95,  val loss 0.611125, percent error 23.90\n",
            "Epoch    17, train loss 0.497114, train error 18.65,  val loss 0.648191, percent error 23.90\n",
            "Epoch    18, train loss 0.594811, train error 22.10,  val loss 0.702718, percent error 26.70\n",
            "Epoch    19, train loss 0.394349, train error 14.65,  val loss 0.564357, percent error 20.40\n",
            "Epoch    20, train loss 0.363334, train error 13.38,  val loss 0.550468, percent error 20.00\n",
            "Epoch    21, train loss 0.314549, train error 11.25,  val loss 0.499005, percent error 17.80\n",
            "Epoch    22, train loss 0.298260, train error 10.65,  val loss 0.501062, percent error 17.20\n",
            "Epoch    23, train loss 0.335327, train error 11.68,  val loss 0.553091, percent error 19.10\n",
            "Epoch    24, train loss 0.283356, train error 10.20,  val loss 0.529590, percent error 18.30\n",
            "Epoch    25, train loss 0.273613, train error 9.20,  val loss 0.504724, percent error 16.10\n",
            "Epoch    26, train loss 0.268301, train error 9.70,  val loss 0.535653, percent error 18.20\n",
            "Epoch    27, train loss 0.279368, train error 9.97,  val loss 0.566172, percent error 18.70\n",
            "Epoch    28, train loss 0.222521, train error 7.75,  val loss 0.475831, percent error 16.20\n",
            "Epoch    29, train loss 0.243626, train error 8.90,  val loss 0.488242, percent error 15.30\n",
            "Epoch    30, train loss 0.253819, train error 9.32,  val loss 0.538312, percent error 17.10\n",
            "Epoch    31, train loss 0.264194, train error 9.53,  val loss 0.556699, percent error 17.20\n",
            "Epoch    32, train loss 0.193644, train error 7.03,  val loss 0.521885, percent error 16.80\n",
            "Epoch    33, train loss 0.223457, train error 8.40,  val loss 0.541543, percent error 16.80\n",
            "Epoch    34, train loss 0.173868, train error 5.95,  val loss 0.511536, percent error 15.20\n",
            "Epoch    35, train loss 0.195490, train error 7.30,  val loss 0.523635, percent error 16.20\n",
            "Epoch    36, train loss 0.189001, train error 6.97,  val loss 0.539571, percent error 15.60\n",
            "Epoch    37, train loss 0.155456, train error 5.30,  val loss 0.478598, percent error 14.40\n",
            "Epoch    38, train loss 0.161688, train error 5.78,  val loss 0.520704, percent error 14.80\n",
            "Epoch    39, train loss 0.141819, train error 4.57,  val loss 0.501652, percent error 14.80\n",
            "Epoch    40, train loss 0.113780, train error 3.45,  val loss 0.492441, percent error 14.20\n",
            "Epoch    41, train loss 0.110017, train error 3.60,  val loss 0.495885, percent error 13.60\n",
            "Epoch    42, train loss 0.108155, train error 3.28,  val loss 0.504446, percent error 15.00\n",
            "Epoch    43, train loss 0.111316, train error 3.60,  val loss 0.517451, percent error 14.80\n",
            "Epoch    44, train loss 0.098080, train error 2.72,  val loss 0.499988, percent error 14.10\n",
            "Epoch    45, train loss 0.102872, train error 3.07,  val loss 0.533672, percent error 14.60\n",
            "Epoch    46, train loss 0.098102, train error 2.90,  val loss 0.510006, percent error 14.70\n",
            "Epoch    47, train loss 0.092103, train error 2.70,  val loss 0.523059, percent error 14.30\n",
            "Epoch    48, train loss 0.108158, train error 3.62,  val loss 0.539756, percent error 14.20\n",
            "Epoch    49, train loss 0.094498, train error 2.78,  val loss 0.530498, percent error 15.00\n",
            "Epoch    50, train loss 0.084566, train error 2.40,  val loss 0.534533, percent error 14.10\n",
            "Epoch    51, train loss 0.087500, train error 2.62,  val loss 0.549515, percent error 14.50\n",
            "Epoch    52, train loss 0.088264, train error 2.65,  val loss 0.534976, percent error 14.20\n",
            "Epoch    53, train loss 0.076649, train error 2.03,  val loss 0.523730, percent error 14.20\n",
            "Epoch    54, train loss 0.079545, train error 2.15,  val loss 0.539713, percent error 13.90\n",
            "Epoch    55, train loss 0.083038, train error 2.75,  val loss 0.554126, percent error 14.70\n",
            "Epoch    56, train loss 0.074158, train error 2.18,  val loss 0.551724, percent error 14.00\n",
            "Epoch    57, train loss 0.075095, train error 2.15,  val loss 0.559793, percent error 14.70\n",
            "Epoch    58, train loss 0.068849, train error 1.80,  val loss 0.555460, percent error 14.50\n",
            "Epoch    59, train loss 0.076689, train error 2.15,  val loss 0.589890, percent error 14.50\n",
            "Epoch    60, train loss 0.062753, train error 1.65,  val loss 0.555657, percent error 14.20\n",
            "Epoch    61, train loss 0.061457, train error 1.50,  val loss 0.569000, percent error 13.80\n",
            "Epoch    62, train loss 0.059900, train error 1.28,  val loss 0.563309, percent error 13.70\n",
            "Epoch    63, train loss 0.059163, train error 1.38,  val loss 0.569547, percent error 13.80\n",
            "Epoch    64, train loss 0.061095, train error 1.50,  val loss 0.575406, percent error 14.40\n",
            "Epoch    65, train loss 0.056933, train error 1.22,  val loss 0.569048, percent error 14.10\n",
            "Epoch    66, train loss 0.056800, train error 1.22,  val loss 0.583611, percent error 14.00\n",
            "Epoch    67, train loss 0.055430, train error 1.00,  val loss 0.579163, percent error 13.60\n",
            "Epoch    68, train loss 0.055932, train error 1.15,  val loss 0.584691, percent error 13.90\n",
            "Epoch    69, train loss 0.054849, train error 1.20,  val loss 0.590348, percent error 14.30\n",
            "Epoch    70, train loss 0.054262, train error 1.22,  val loss 0.583531, percent error 13.80\n",
            "Epoch    71, train loss 0.053356, train error 1.15,  val loss 0.587131, percent error 14.00\n",
            "Epoch    72, train loss 0.050822, train error 1.07,  val loss 0.591234, percent error 13.80\n",
            "Epoch    73, train loss 0.051412, train error 0.95,  val loss 0.596370, percent error 14.30\n",
            "Epoch    74, train loss 0.051534, train error 1.03,  val loss 0.602170, percent error 14.00\n",
            "Epoch    75, train loss 0.050111, train error 0.93,  val loss 0.606186, percent error 13.70\n",
            "Epoch    76, train loss 0.049240, train error 0.90,  val loss 0.602136, percent error 14.00\n",
            "Epoch    77, train loss 0.049310, train error 0.97,  val loss 0.601671, percent error 13.80\n",
            "Epoch    78, train loss 0.048484, train error 1.05,  val loss 0.603099, percent error 13.80\n",
            "Epoch    79, train loss 0.046865, train error 0.93,  val loss 0.605736, percent error 14.10\n",
            "Epoch    80, train loss 0.045725, train error 0.80,  val loss 0.610924, percent error 14.10\n",
            "Epoch    81, train loss 0.045263, train error 0.80,  val loss 0.608105, percent error 14.10\n",
            "Epoch    82, train loss 0.044765, train error 0.82,  val loss 0.610961, percent error 13.80\n",
            "Epoch    83, train loss 0.044256, train error 0.75,  val loss 0.614148, percent error 14.10\n",
            "Epoch    84, train loss 0.044207, train error 0.80,  val loss 0.617262, percent error 13.60\n",
            "Epoch    85, train loss 0.043883, train error 0.75,  val loss 0.620155, percent error 13.90\n",
            "Epoch    86, train loss 0.044354, train error 0.78,  val loss 0.625006, percent error 14.00\n",
            "Epoch    87, train loss 0.043543, train error 0.72,  val loss 0.616546, percent error 14.40\n",
            "Epoch    88, train loss 0.043215, train error 0.72,  val loss 0.624115, percent error 14.00\n",
            "Epoch    89, train loss 0.042893, train error 0.85,  val loss 0.621451, percent error 13.90\n",
            "Epoch    90, train loss 0.042336, train error 0.62,  val loss 0.621080, percent error 13.90\n",
            "Epoch    91, train loss 0.042147, train error 0.60,  val loss 0.627534, percent error 14.20\n",
            "Epoch    92, train loss 0.042073, train error 0.80,  val loss 0.627297, percent error 13.80\n",
            "Epoch    93, train loss 0.041629, train error 0.70,  val loss 0.626800, percent error 14.00\n",
            "Epoch    94, train loss 0.040927, train error 0.50,  val loss 0.632299, percent error 14.10\n",
            "Epoch    95, train loss 0.041107, train error 0.60,  val loss 0.633299, percent error 14.50\n",
            "Epoch    96, train loss 0.040450, train error 0.55,  val loss 0.630728, percent error 14.10\n",
            "Epoch    97, train loss 0.040690, train error 0.68,  val loss 0.630841, percent error 14.10\n",
            "Epoch    98, train loss 0.039888, train error 0.55,  val loss 0.632874, percent error 14.20\n",
            "Epoch    99, train loss 0.039718, train error 0.53,  val loss 0.638450, percent error 14.10\n"
          ]
        },
        {
          "output_type": "display_data",
          "data": {
            "text/plain": [
              "<Figure size 640x480 with 1 Axes>"
            ],
            "image/png": "[encoded data removed]"
          },
          "metadata": {}
        }
      ]
    }
  ]
}